{
  "cells": [
    {
      "cell_type": "code",
      "execution_count": 1,
      "metadata": {
        "id": "wM2ulzKqgYd9"
      },
      "outputs": [],
      "source": [
        "import numpy as np\n",
        "from keras.datasets import imdb\n",
        "from keras import models\n",
        "from keras import layers\n",
        "from keras import optimizers\n",
        "from keras import losses\n",
        "from keras import metrics\n",
        "import matplotlib.pyplot as plt\n",
        "%matplotlib inline"
      ]
    },
    {
      "cell_type": "markdown",
      "metadata": {},
      "source": []
    },
    {
      "cell_type": "markdown",
      "metadata": {},
      "source": []
    },
    {
      "cell_type": "code",
      "execution_count": 2,
      "metadata": {
        "colab": {
          "base_uri": "https://localhost:8080/"
        },
        "id": "MOEeIyIfgn1-",
        "outputId": "11e2420f-b087-4bdb-f317-a07f3c9f906b"
      },
      "outputs": [
        {
          "name": "stdout",
          "output_type": "stream",
          "text": [
            "Downloading data from https://storage.googleapis.com/tensorflow/tf-keras-datasets/imdb.npz\n",
            "17464789/17464789 [==============================] - 0s 0us/step\n"
          ]
        }
      ],
      "source": [
        "(train_data, train_labels), (test_data, test_labels) = imdb.load_data(num_words = 10000)\n"
      ]
    },
    {
      "cell_type": "code",
      "execution_count": 3,
      "metadata": {
        "colab": {
          "base_uri": "https://localhost:8080/"
        },
        "id": "dF2C047Aguyr",
        "outputId": "7a74a0ee-e859-42e2-beb8-2e99104dcd30"
      },
      "outputs": [
        {
          "name": "stdout",
          "output_type": "stream",
          "text": [
            "<class 'list'>\n"
          ]
        },
        {
          "data": {
            "text/plain": [
              "9999"
            ]
          },
          "execution_count": 3,
          "metadata": {},
          "output_type": "execute_result"
        }
      ],
      "source": [
        "# Since we restricted ourselves to the top 10000 frequent words, no word index should exceed\n",
        "# we'll verify this below\n",
        "# Here is a list of maximum indexes in every review --- we search the maximum index in this\n",
        "print(type([max(sequence) for sequence in train_data]))\n",
        "# Find the maximum of all max indexes\n",
        "max([max(sequence) for sequence in train_data])"
      ]
    },
    {
      "cell_type": "code",
      "execution_count": 4,
      "metadata": {
        "colab": {
          "base_uri": "https://localhost:8080/",
          "height": 157
        },
        "id": "ZuFIuTyJgvfR",
        "outputId": "3582266e-4e63-4a22-9aa9-cc98970519f2"
      },
      "outputs": [
        {
          "name": "stdout",
          "output_type": "stream",
          "text": [
            "Downloading data from https://storage.googleapis.com/tensorflow/tf-keras-datasets/imdb_word_index.json\n",
            "1641221/1641221 [==============================] - 0s 0us/step\n"
          ]
        },
        {
          "data": {
            "application/vnd.google.colaboratory.intrinsic+json": {
              "type": "string"
            },
            "text/plain": [
              "\"? this film was just brilliant casting location scenery story direction everyone's really suited the part they played and you could just imagine being there robert ? is an amazing actor and now the same being director ? father came from the same scottish island as myself so i loved the fact there was a real connection with this film the witty remarks throughout the film were great it was just brilliant so much that i bought the film as soon as it was released for ? and would recommend it to everyone to watch and the fly fishing was amazing really cried at the end it was so sad and you know what they say if you cry at a film it must have been good and this definitely was also ? to the two little boy's that played the ? of norman and paul they were just brilliant children are often left out of the ? list i think because the stars that play them all grown up are such a big profile for the whole film but these children are amazing and should be praised for what they have done don't you think the whole story was so lovely because it was true and was someone's life after all that was shared with us all\""
            ]
          },
          "execution_count": 4,
          "metadata": {},
          "output_type": "execute_result"
        }
      ],
      "source": [
        "# Let's quickly decode a review\n",
        "# step 1: load the dictionary mappings from word to integer index\n",
        "word_index = imdb.get_word_index()\n",
        "# step 2: reverse word index to map integer indexes to their respective words\n",
        "reverse_word_index = dict([(value, key) for (key, value) in word_index.items()])\n",
        "# Step 3: decode the review, mapping integer indices to words\n",
        "#\n",
        "# indices are off by 3 because 0, 1, and 2 are reserverd indices for \"padding\", \"Start of se\n",
        "decoded_review = ' '.join([reverse_word_index.get(i-3, '?') for i in train_data[0]])\n",
        "decoded_review"
      ]
    },
    {
      "cell_type": "code",
      "execution_count": 5,
      "metadata": {
        "id": "AEyOSN82g6BK"
      },
      "outputs": [],
      "source": [
        "def vectorize_sequences(sequences, dimension=10000):\n",
        "  results = np.zeros((len(sequences), dimension)) # Creates an all zero matrix of shape\n",
        "  for i,sequence in enumerate(sequences):\n",
        "    results[i,sequence] = 1 # Sets specific indices of results[i]\n",
        "  return results\n",
        "# Vectorize training Data\n",
        "X_train = vectorize_sequences(train_data)\n",
        "# Vectorize testing Data\n",
        "X_test = vectorize_sequences(test_data)"
      ]
    },
    {
      "cell_type": "code",
      "execution_count": 6,
      "metadata": {
        "colab": {
          "base_uri": "https://localhost:8080/"
        },
        "id": "ygZf8I69hPID",
        "outputId": "54c5628f-02d3-49f1-ff97-bb3cdec77c21"
      },
      "outputs": [
        {
          "data": {
            "text/plain": [
              "array([0., 1., 1., ..., 0., 0., 0.])"
            ]
          },
          "execution_count": 6,
          "metadata": {},
          "output_type": "execute_result"
        }
      ],
      "source": [
        "X_train[0]"
      ]
    },
    {
      "cell_type": "code",
      "execution_count": null,
      "metadata": {
        "id": "2ZaywhTlhWxO"
      },
      "outputs": [],
      "source": []
    },
    {
      "cell_type": "code",
      "execution_count": 7,
      "metadata": {
        "colab": {
          "base_uri": "https://localhost:8080/"
        },
        "id": "HVCW_jyVhW0O",
        "outputId": "4e006b04-5295-493b-cce2-50bb778f1a65"
      },
      "outputs": [
        {
          "data": {
            "text/plain": [
              "(25000, 10000)"
            ]
          },
          "execution_count": 7,
          "metadata": {},
          "output_type": "execute_result"
        }
      ],
      "source": [
        "X_train.shape"
      ]
    },
    {
      "cell_type": "code",
      "execution_count": null,
      "metadata": {
        "id": "K5r0Ot_YhXQI"
      },
      "outputs": [],
      "source": []
    },
    {
      "cell_type": "markdown",
      "metadata": {
        "id": "02qrTqf1haoI"
      },
      "source": [
        "Vectorizing Lables"
      ]
    },
    {
      "cell_type": "code",
      "execution_count": 8,
      "metadata": {
        "id": "ECWh3qkqhdcV"
      },
      "outputs": [],
      "source": [
        "y_train = np.asarray(train_labels).astype('float32')\n",
        "y_test = np.asarray(test_labels).astype('float32')\n"
      ]
    },
    {
      "cell_type": "code",
      "execution_count": 9,
      "metadata": {
        "id": "mwyzoFcfhraK"
      },
      "outputs": [],
      "source": [
        "model = models.Sequential()\n",
        "model.add(layers.Dense(16, activation='relu', input_shape=(10000,)))\n",
        "model.add(layers.Dense(16, activation='relu'))\n",
        "model.add(layers.Dense(1, activation='sigmoid'))\n"
      ]
    },
    {
      "cell_type": "code",
      "execution_count": 10,
      "metadata": {
        "id": "Kxs9Y00fhuxY"
      },
      "outputs": [],
      "source": [
        "model.compile(\n",
        "optimizer=optimizers.RMSprop(learning_rate=0.001),\n",
        "loss = losses.binary_crossentropy,\n",
        "metrics = [metrics.binary_accuracy]\n",
        ")"
      ]
    },
    {
      "cell_type": "code",
      "execution_count": 11,
      "metadata": {
        "id": "pePehfO3hzlN"
      },
      "outputs": [],
      "source": [
        "# Input for Validation\n",
        "X_val = X_train[:10000]\n",
        "partial_X_train = X_train[10000:]\n",
        "# Labels for validation\n",
        "y_val = y_train[:10000]\n",
        "partial_y_train = y_train[10000:]\n"
      ]
    },
    {
      "cell_type": "code",
      "execution_count": 12,
      "metadata": {
        "colab": {
          "base_uri": "https://localhost:8080/"
        },
        "id": "kq2Ml3Zeh3Lw",
        "outputId": "0f182fd3-7ed2-4734-d995-4b6060e05ebd"
      },
      "outputs": [
        {
          "name": "stdout",
          "output_type": "stream",
          "text": [
            "Epoch 1/20\n",
            "30/30 [==============================] - 4s 105ms/step - loss: 0.5496 - binary_accuracy: 0.7737 - val_loss: 0.4788 - val_binary_accuracy: 0.7832\n",
            "Epoch 2/20\n",
            "30/30 [==============================] - 1s 47ms/step - loss: 0.3578 - binary_accuracy: 0.8860 - val_loss: 0.3370 - val_binary_accuracy: 0.8794\n",
            "Epoch 3/20\n",
            "30/30 [==============================] - 1s 43ms/step - loss: 0.2693 - binary_accuracy: 0.9112 - val_loss: 0.3185 - val_binary_accuracy: 0.8753\n",
            "Epoch 4/20\n",
            "30/30 [==============================] - 1s 47ms/step - loss: 0.2162 - binary_accuracy: 0.9315 - val_loss: 0.2802 - val_binary_accuracy: 0.8893\n",
            "Epoch 5/20\n",
            "30/30 [==============================] - 5s 163ms/step - loss: 0.1795 - binary_accuracy: 0.9418 - val_loss: 0.3022 - val_binary_accuracy: 0.8788\n",
            "Epoch 6/20\n",
            "30/30 [==============================] - 5s 151ms/step - loss: 0.1528 - binary_accuracy: 0.9515 - val_loss: 0.2802 - val_binary_accuracy: 0.8862\n",
            "Epoch 7/20\n",
            "30/30 [==============================] - 1s 47ms/step - loss: 0.1322 - binary_accuracy: 0.9606 - val_loss: 0.3002 - val_binary_accuracy: 0.8845\n",
            "Epoch 8/20\n",
            "30/30 [==============================] - 1s 44ms/step - loss: 0.1132 - binary_accuracy: 0.9655 - val_loss: 0.2968 - val_binary_accuracy: 0.8874\n",
            "Epoch 9/20\n",
            "30/30 [==============================] - 1s 36ms/step - loss: 0.0963 - binary_accuracy: 0.9729 - val_loss: 0.3282 - val_binary_accuracy: 0.8755\n",
            "Epoch 10/20\n",
            "30/30 [==============================] - 1s 40ms/step - loss: 0.0831 - binary_accuracy: 0.9783 - val_loss: 0.3395 - val_binary_accuracy: 0.8736\n",
            "Epoch 11/20\n",
            "30/30 [==============================] - 1s 35ms/step - loss: 0.0693 - binary_accuracy: 0.9843 - val_loss: 0.3423 - val_binary_accuracy: 0.8814\n",
            "Epoch 12/20\n",
            "30/30 [==============================] - 1s 35ms/step - loss: 0.0599 - binary_accuracy: 0.9863 - val_loss: 0.4056 - val_binary_accuracy: 0.8638\n",
            "Epoch 13/20\n",
            "30/30 [==============================] - 1s 49ms/step - loss: 0.0491 - binary_accuracy: 0.9899 - val_loss: 0.3708 - val_binary_accuracy: 0.8769\n",
            "Epoch 14/20\n",
            "30/30 [==============================] - 2s 57ms/step - loss: 0.0406 - binary_accuracy: 0.9932 - val_loss: 0.3923 - val_binary_accuracy: 0.8756\n",
            "Epoch 15/20\n",
            "30/30 [==============================] - 2s 65ms/step - loss: 0.0316 - binary_accuracy: 0.9959 - val_loss: 0.4138 - val_binary_accuracy: 0.8758\n",
            "Epoch 16/20\n",
            "30/30 [==============================] - 1s 37ms/step - loss: 0.0282 - binary_accuracy: 0.9962 - val_loss: 0.4323 - val_binary_accuracy: 0.8749\n",
            "Epoch 17/20\n",
            "30/30 [==============================] - 1s 34ms/step - loss: 0.0214 - binary_accuracy: 0.9975 - val_loss: 0.4531 - val_binary_accuracy: 0.8756\n",
            "Epoch 18/20\n",
            "30/30 [==============================] - 1s 35ms/step - loss: 0.0173 - binary_accuracy: 0.9986 - val_loss: 0.4785 - val_binary_accuracy: 0.8743\n",
            "Epoch 19/20\n",
            "30/30 [==============================] - 1s 35ms/step - loss: 0.0153 - binary_accuracy: 0.9987 - val_loss: 0.4976 - val_binary_accuracy: 0.8727\n",
            "Epoch 20/20\n",
            "30/30 [==============================] - 1s 47ms/step - loss: 0.0128 - binary_accuracy: 0.9987 - val_loss: 0.5197 - val_binary_accuracy: 0.8715\n"
          ]
        }
      ],
      "source": [
        "history = model.fit(\n",
        "partial_X_train,\n",
        "partial_y_train,\n",
        "epochs=20,\n",
        "batch_size=512,\n",
        "validation_data=(X_val, y_val)\n",
        ")"
      ]
    },
    {
      "cell_type": "code",
      "execution_count": 13,
      "metadata": {
        "colab": {
          "base_uri": "https://localhost:8080/"
        },
        "id": "zvING-dhiCj1",
        "outputId": "bc31d74e-2c3d-40c9-a165-e1cc7a60372a"
      },
      "outputs": [
        {
          "data": {
            "text/plain": [
              "dict_keys(['loss', 'binary_accuracy', 'val_loss', 'val_binary_accuracy'])"
            ]
          },
          "execution_count": 13,
          "metadata": {},
          "output_type": "execute_result"
        }
      ],
      "source": [
        "history_dict = history.history\n",
        "history_dict.keys()\n"
      ]
    },
    {
      "cell_type": "code",
      "execution_count": 14,
      "metadata": {
        "colab": {
          "base_uri": "https://localhost:8080/",
          "height": 472
        },
        "id": "Gc-wIi_LiIRI",
        "outputId": "0c5c159c-09ff-416f-ac16-5b93a68d258c"
      },
      "outputs": [
        {
          "data": {
            "image/png": "[encoded data removed]",
            "text/plain": [
              "<Figure size 640x480 with 1 Axes>"
            ]
          },
          "metadata": {},
          "output_type": "display_data"
        }
      ],
      "source": [
        "# Plotting losses\n",
        "loss_values = history_dict['loss']\n",
        "val_loss_values = history_dict['val_loss']\n",
        "epochs = range(1, len(loss_values) + 1)\n",
        "plt.plot(epochs, loss_values, 'g', label=\"Training Loss\")\n",
        "plt.plot(epochs, val_loss_values, 'b', label=\"Validation Loss\")\n",
        "plt.title('Training and Validation Loss')\n",
        "plt.xlabel('Epochs')\n",
        "plt.ylabel('Loss Value')\n",
        "plt.legend()\n",
        "plt.show()"
      ]
    },
    {
      "cell_type": "code",
      "execution_count": 15,
      "metadata": {
        "colab": {
          "base_uri": "https://localhost:8080/",
          "height": 472
        },
        "id": "_UVqVH03iOtw",
        "outputId": "06445b1b-e13e-4b24-99bf-79bfcd8629e6"
      },
      "outputs": [
        {
          "data": {
            "image/png": "[encoded data removed]",
            "text/plain": [
              "<Figure size 640x480 with 1 Axes>"
            ]
          },
          "metadata": {},
          "output_type": "display_data"
        }
      ],
      "source": [
        "# Training and Validation Accuracy\n",
        "acc_values = history_dict['binary_accuracy']\n",
        "val_acc_values = history_dict['val_binary_accuracy']\n",
        "epochs = range(1, len(loss_values) + 1)\n",
        "plt.plot(epochs, acc_values, 'g', label=\"Training Accuracy\")\n",
        "plt.plot(epochs, val_acc_values, 'b', label=\"Validation Accuracy\")\n",
        "plt.title('Training and Validation Accuraccy')\n",
        "plt.xlabel('Epochs')\n",
        "plt.ylabel('Accuracy')\n",
        "plt.legend()\n",
        "plt.show()\n"
      ]
    },
    {
      "cell_type": "code",
      "execution_count": 16,
      "metadata": {
        "colab": {
          "base_uri": "https://localhost:8080/"
        },
        "id": "biDYG6gkiU8n",
        "outputId": "86be1b39-d34f-48f2-b1e4-0d8c464c637d"
      },
      "outputs": [
        {
          "name": "stdout",
          "output_type": "stream",
          "text": [
            "Epoch 1/3\n",
            "30/30 [==============================] - 3s 86ms/step - loss: 0.0104 - binary_accuracy: 0.9993 - val_loss: 0.5319 - val_binary_accuracy: 0.8743\n",
            "Epoch 2/3\n",
            "30/30 [==============================] - 2s 56ms/step - loss: 0.0064 - binary_accuracy: 0.9999 - val_loss: 0.5576 - val_binary_accuracy: 0.8732\n",
            "Epoch 3/3\n",
            "30/30 [==============================] - 1s 49ms/step - loss: 0.0075 - binary_accuracy: 0.9993 - val_loss: 0.5756 - val_binary_accuracy: 0.8723\n"
          ]
        },
        {
          "data": {
            "text/plain": [
              "<keras.src.callbacks.History at 0x7983397b8ac0>"
            ]
          },
          "execution_count": 16,
          "metadata": {},
          "output_type": "execute_result"
        }
      ],
      "source": [
        "model.fit(\n",
        "partial_X_train,\n",
        "partial_y_train,\n",
        "epochs=3,\n",
        "batch_size=512,\n",
        "validation_data=(X_val, y_val)\n",
        ")\n"
      ]
    },
    {
      "cell_type": "code",
      "execution_count": 17,
      "metadata": {
        "colab": {
          "base_uri": "https://localhost:8080/"
        },
        "id": "ZQuRcstWifO8",
        "outputId": "42880852-5476-423a-d8b3-bf54e1a7f711"
      },
      "outputs": [
        {
          "name": "stdout",
          "output_type": "stream",
          "text": [
            "782/782 [==============================] - 2s 2ms/step\n"
          ]
        }
      ],
      "source": [
        "# Making Predictions for testing data\n",
        "np.set_printoptions(suppress=True)\n",
        "result = model.predict(X_test)\n"
      ]
    },
    {
      "cell_type": "code",
      "execution_count": 18,
      "metadata": {
        "colab": {
          "base_uri": "https://localhost:8080/"
        },
        "id": "CwWKjAV8inKR",
        "outputId": "35087806-351a-4d40-baa0-b42a9b5114b7"
      },
      "outputs": [
        {
          "data": {
            "text/plain": [
              "array([[0.01123624],\n",
              "       [0.99999857],\n",
              "       [0.51631236],\n",
              "       ...,\n",
              "       [0.00065892],\n",
              "       [0.00525629],\n",
              "       [0.9821892 ]], dtype=float32)"
            ]
          },
          "execution_count": 18,
          "metadata": {},
          "output_type": "execute_result"
        }
      ],
      "source": [
        "result\n"
      ]
    },
    {
      "cell_type": "code",
      "execution_count": 20,
      "metadata": {
        "colab": {
          "base_uri": "https://localhost:8080/"
        },
        "id": "FLQjYXgOjBtD",
        "outputId": "ed079037-f545-458e-ed6b-c055e3360a97"
      },
      "outputs": [
        {
          "name": "stderr",
          "output_type": "stream",
          "text": [
            "<ipython-input-20-a8875d258568>:3: DeprecationWarning: Conversion of an array with ndim > 0 to a scalar is deprecated, and will error in future. Ensure you extract a single element from your array before performing this operation. (Deprecated NumPy 1.25.)\n",
            "  y_pred[i] = np.round(score)\n"
          ]
        }
      ],
      "source": [
        "y_pred = np.zeros(len(result))\n",
        "for i, score in enumerate(result):\n",
        "  y_pred[i] = np.round(score)\n"
      ]
    },
    {
      "cell_type": "code",
      "execution_count": 21,
      "metadata": {
        "colab": {
          "base_uri": "https://localhost:8080/"
        },
        "id": "AfZruJjzjJ0u",
        "outputId": "6838f971-57ce-44f8-f4c5-bce066a3bd72"
      },
      "outputs": [
        {
          "data": {
            "text/plain": [
              "<tf.Tensor: shape=(), dtype=float32, numpy=0.13964>"
            ]
          },
          "execution_count": 21,
          "metadata": {},
          "output_type": "execute_result"
        }
      ],
      "source": [
        "mae = metrics.mean_absolute_error(y_pred, y_test)\n",
        "mae"
      ]
    },
    {
      "cell_type": "markdown",
      "metadata": {},
      "source": []
    },
    {
      "cell_type": "markdown",
      "metadata": {},
      "source": []
    },
    {
      "cell_type": "markdown",
      "metadata": {},
      "source": []
    },
    {
      "cell_type": "markdown",
      "metadata": {},
      "source": []
    },
    {
      "cell_type": "markdown",
      "metadata": {},
      "source": []
    },
    {
      "cell_type": "markdown",
      "metadata": {},
      "source": []
    },
    {
      "cell_type": "markdown",
      "metadata": {},
      "source": []
    },
    {
      "cell_type": "markdown",
      "metadata": {},
      "source": []
    },
    {
      "cell_type": "markdown",
      "metadata": {},
      "source": []
    },
    {
      "cell_type": "markdown",
      "metadata": {},
      "source": []
    },
    {
      "cell_type": "markdown",
      "metadata": {},
      "source": []
    },
    {
      "cell_type": "markdown",
      "metadata": {},
      "source": []
    },
    {
      "cell_type": "markdown",
      "metadata": {},
      "source": []
    },
    {
      "cell_type": "markdown",
      "metadata": {},
      "source": []
    },
    {
      "cell_type": "markdown",
      "metadata": {},
      "source": []
    },
    {
      "cell_type": "markdown",
      "metadata": {},
      "source": []
    },
    {
      "cell_type": "markdown",
      "metadata": {},
      "source": []
    },
    {
      "cell_type": "markdown",
      "metadata": {},
      "source": []
    },
    {
      "cell_type": "markdown",
      "metadata": {},
      "source": []
    },
    {
      "cell_type": "markdown",
      "metadata": {},
      "source": []
    },
    {
      "cell_type": "markdown",
      "metadata": {},
      "source": []
    },
    {
      "cell_type": "markdown",
      "metadata": {},
      "source": [
        "<!-- This code snippet is for building a basic neural network using Keras to classify movie reviews from the IMDB dataset as positive or negative. Let's break down each part:\n",
        "\n",
        "Libraries Imported\n",
        "import numpy as np: NumPy is used for numerical computations and array operations.\n",
        "from keras.datasets import imdb: This imports the IMDB dataset from Keras.\n",
        "from keras import models, layers, optimizers, losses, metrics: These are various components of the Keras library used for building and training neural networks.\n",
        "import matplotlib.pyplot as plt: Matplotlib is used for plotting.\n",
        "%matplotlib inline: This magic command in Jupyter notebooks ensures that matplotlib plots are displayed inline.\n",
        "Loading and Preprocessing Data\n",
        "python\n",
        "Copy code\n",
        "(x_train, y_train), (x_test, y_test) = imdb.load_data(num_words=10000)\n",
        "Loads the IMDB dataset with the most frequent 10,000 words, where each word in a review is represented by an integer index.\n",
        "Building the Model\n",
        "python\n",
        "Copy code\n",
        "model = models.Sequential()\n",
        "model.add(layers.Dense(16, activation='relu', input_shape=(10000,)))\n",
        "model.add(layers.Dense(16, activation='relu'))\n",
        "model.add(layers.Dense(1, activation='sigmoid'))\n",
        "Initializes a sequential model.\n",
        "Adds two dense layers with 16 neurons each and ReLU activation function.\n",
        "Adds an output layer with a single neuron and sigmoid activation for binary classification.\n",
        "Compiling the Model\n",
        "python\n",
        "Copy code\n",
        "model.compile(optimizer='rmsprop',\n",
        "              loss='binary_crossentropy',\n",
        "              metrics=['accuracy'])\n",
        "Compiles the model with RMSprop optimizer, binary cross-entropy loss (suitable for binary classification), and accuracy as the metric.\n",
        "Training the Model\n",
        "python\n",
        "Copy code\n",
        "history = model.fit(x_train, y_train,\n",
        "                    epochs=10,\n",
        "                    batch_size=512,\n",
        "                    validation_data=(x_test, y_test))\n",
        "Trains the model on the training data (x_train, y_train) for 10 epochs with a batch size of 512.\n",
        "Uses the validation data (x_test, y_test) for evaluating the model's performance during training.\n",
        "Plotting Training History\n",
        "python\n",
        "Copy code\n",
        "history_dict = history.history\n",
        "acc = history_dict['accuracy']\n",
        "val_acc = history_dict['val_accuracy']\n",
        "loss = history_dict['loss']\n",
        "val_loss = history_dict['val_loss']\n",
        "\n",
        "epochs = range(1, len(acc) + 1)\n",
        "\n",
        "plt.plot(epochs, loss, 'bo', label='Training loss')\n",
        "plt.plot(epochs, val_loss, 'b', label='Validation loss')\n",
        "plt.title('Training and validation loss')\n",
        "plt.xlabel('Epochs')\n",
        "plt.ylabel('Loss')\n",
        "plt.legend()\n",
        "\n",
        "plt.show()\n",
        "Plots the training and validation loss curves using Matplotlib to visualize the model's performance during training.\n",
        "Model Evaluation\n",
        "python\n",
        "Copy code\n",
        "results = model.evaluate(x_test, y_test)\n",
        "print(results)\n",
        "Evaluates the trained model on the test data and prints the test loss and accuracy.\n",
        "This code demonstrates a complete workflow of building, training, and evaluating a neural network model for sentiment analysis using the IMDB dataset. -->"
      ]
    },
    {
      "cell_type": "markdown",
      "metadata": {},
      "source": [
        "<!-- Group B Deep Learning\n",
        " Assignment No: 2B\n",
        " Title of the Assignment: Multiclass classification using Deep Neural Networks: Example: Use the OCR\n",
        " letter recognition dataset https://archive.ics.uci.edu/ml/datasets/letter+recognition\n",
        " Objective of the Assignment: Students should be able to solve Multiclass classification using Deep\n",
        " Neural NetworksSolve\n",
        " Prerequisite:\n",
        " 1.\n",
        " 2.\n",
        " 3.\n",
        " Basic of programming language\n",
        " Concept of Multi Classification\n",
        " Concept of Deep Neural Network--------------------------------------------------------------------------------------------------------------\n",
        "Contents for Theory:\n",
        " 1.\n",
        " 2.\n",
        " 3.\n",
        " 4.\n",
        " What is Multi-Classification\n",
        " Example of Multi-Classification\n",
        " How Deep Neural Network Work on Multi-Classification\n",
        " Code Explanation with Output--------------------------------------------------------------------------------------------------------------\n",
        "SNJB’s Late Sau. K.B. Jain College Of Engineering\n",
        "What is multiclass classification ?\n",
        " Multi Classification, also known as multiclass classification or multiclass classification problem, is a type\n",
        " of classification problem where the goal is to assign input data to one of three or more classes or\n",
        " categories. In other words, instead of binary classification, where the goal is to assign input data to one of\n",
        " two classes (e.g., positive or negative), multiclass classification involves assigning input data to one of\n",
        " several possible classes or categories (e.g., animal species, types of products, etc.).\n",
        " In multiclass classification, each input sample is associated with a single class label, and the goal of the\n",
        " model is to learn a function that can accurately predict the correct class label for new, unseen input data.\n",
        " Multiclass classification can be approached using a variety of machine learning algorithms, including\n",
        " decision trees, support vector machines, and deep neural networks.\n",
        " Some examples of multiclass classification problems include image classification, where the goal is to\n",
        " classify images into one of several categories (e.g., animals, vehicles, buildings), and text classification,\n",
        " where the goal is to classify text documents into one of several categories (e.g., news topics, sentiment\n",
        " analysis).\n",
        " Example of multiclass classification\n",
        "Here are a few examples of multiclass classification problems:\n",
        " Image classification: The goal is to classify images into one of several categories. For example, an image\n",
        " classification model might be trained to classify images of animals into categories such as cats, dogs, and\n",
        " birds.\n",
        " Text classification: The goal is to classify text documents into one of several categories. For example, a\n",
        " text classification model might be trained to classify news articles into categories such as politics, sports,\n",
        " and entertainment.\n",
        " Disease diagnosis: The goal is to diagnose patients with one of several diseases based on their symptoms\n",
        " and medical history. For example, a disease diagnosis model might be trained to classify patients into\n",
        " categories such as diabetes, cancer, and heart disease.\n",
        " Speech recognition: The goal is to transcribe spoken words into text. A speech recognition model might\n",
        " be trained to recognize spoken words in several languages or dialects.\n",
        " Credit risk analysis: The goal is to classify loan applicants into categories such as low risk, medium risk,\n",
        " and high risk. A credit risk analysis model might be trained to classify loan applicants based on their credit\n",
        " score, income, and other factors.\n",
        " In all of these examples, the goal is to assign input data to one of several possible classes or categories.\n",
        " SNJB’s Late Sau. K.B. Jain College Of Engineering\n",
        "Multiclassclassificationisacommontaskinmachinelearningandcanbeapproachedusingavarietyof\n",
        " algorithms, including decision trees, support vector machines, and deep neural networks.\n",
        " Source Code and Output\n",
        " importnumpyasnp\n",
        " fromtensorflow.keras.modelsimportSequential\n",
        " fromtensorflow.keras.layersimportDense, Dropout\n",
        " fromtensorflow.keras.optimizersimportRMSprop\n",
        " fromtensorflow.keras.datasetsimportmnist\n",
        " importmatplotlib.pyplotasplt\n",
        " fromsklearnimportmetrics\n",
        " # Load the OCR dataset\n",
        " # The MNIST dataset is a built-in dataset provided by Keras.\n",
        " #Itconsistsof70,00028x28grayscaleimages,eachofwhichdisplaysasinglehandwrittendigitfrom0\n",
        " to 9.\n",
        " # The training set consists of 60,000 images, while the test set has 10,000 images.\n",
        " (x_train, y_train), (x_test, y_test) = mnist.load_data()\n",
        " #X_trainandX_test areourarrayof imageswhiley_trainandy_testareourarrayof labelsforeach\n",
        " image.\n",
        " # The first tuple contains the training set features (X_train) and the training set labels (y_train).\n",
        " # The second tuple contains the testing set features (X_test) and the testing set labels (y_test).\n",
        " # For example, if the image shows a handwritten 7, then the label will be the intger 7.\n",
        " plt.imshow(x_train[0], cmap='gray') # imshow() functionwhich simply displays an image.\n",
        " plt.show()#cmapis responsibleformappingaspecificcolormaptothevaluesfoundinthearraythat\n",
        " you passed as the first argument.\n",
        " # This is because of the format that all the images in the dataset have:\n",
        " # 1. All the images are grayscale, meaning they only contain black, white and grey.\n",
        " # 2. The images are 28 pixels by 25 pixels in size (28x28).\n",
        " print(x_train[0])\n",
        " #imagedataisjustanarrayofdigits.Youcanalmostmakeouta5fromthepatternofthedigitsinthe\n",
        " array.\n",
        " # Array of 28 values\n",
        " SNJB’s Late Sau. K.B. Jain College Of Engineering\n",
        "#agrayscalepixel isstoredasadigitbetween0and255where0isblack,255iswhiteandvaluesin\n",
        " between are different shades of gray.\n",
        " # Therefore, each value in the [28][28] array tells the computer which color to put in that position when.\n",
        " # reformat our X_train array and our X_test array because they do not have the correct shape.\n",
        " # Reshape the data to fit the model\n",
        " print(\"X_train shape\", x_train.shape)\n",
        " print(\"y_train shape\", y_train.shape)\n",
        " print(\"X_test shape\", x_test.shape)\n",
        " print(\"y_test shape\", y_test.shape)\n",
        " #Hereyoucanseethat for thetrainingsetswehave60,000elementsandthetestingsetshave10,000\n",
        " elements.\n",
        " # y_train and y_test only have 1 dimensional shapes because they are just the labels of each element.\n",
        " #x_trainandx_testhave3dimensionalshapesbecausetheyhaveawidthandheight(28x28pixels)for\n",
        " each element.\n",
        " #(60000,28,28)1stparameter inthetupleshowsushowmuchimagewehave2ndand3rdparameters\n",
        " are the pixel values from x to y (28x28)\n",
        " # The pixel value varies between 0 to 255.\n",
        " # (60000,) Training labels with integers from 0-9 with dtype of uint8. It has the shape (60000,).\n",
        " SNJB’s Late Sau. K.B. Jain College Of Engineering\n",
        "#(10000,28,28)Testingdatathatconsistsofgrayscaleimages.Ithastheshape(10000,28,28)andthe\n",
        " dtype of uint8. The pixel value varies between 0 to 255.\n",
        " # (10000,) Testing labels that consist of integers from 0-9 with dtype uint8. It has the shape (10000,).\n",
        " X_train shape (60000, 28, 28)\n",
        " y_train shape (60000,)\n",
        " X_test shape (10000, 28, 28)\n",
        " y_test shape (10000,)\n",
        " # X: Training data of shape (n_samples, n_features)\n",
        " # y: Training label values of shape (n_samples, n_labels)\n",
        " # 2D array of height and width, 28 pixels by 28 pixels will just become 784 pixels (28 squared).\n",
        " #RememberthatX_trainhas60,000elemenets,eachwith784totalpixelssowillbecomeshape(60000,\n",
        " 784).\n",
        " #WhereasX_test has10,000elements, eachwitheachwith784 total pixels sowillbecomeshape\n",
        " (10000, 784).\n",
        " x_train = x_train.reshape(60000,784)\n",
        " x_test = x_test.reshape(10000,784)\n",
        " x_train=x_train.astype('float32')#use32-bitprecisionwhentraininganeuralnetwork,soatonepoint\n",
        " thetrainingdatawillhavetobeconvertedto32bitfloats.SincethedatasetfitseasilyinRAM,wemight\n",
        " as well convert to float immediately.\n",
        " x_test = x_test.astype('float32')\n",
        " x_train /=255 # Each image has Intensity from 0to 255\n",
        " x_test /=255\n",
        " #Regardingthedivisionby255, thisisthemaximumvalueofabyte(theinputfeature'stypebeforethe\n",
        " conversion to float32),\n",
        " # so this will ensure that the input features are scaled between 0.0 and 1.0.\n",
        " # Convert class vectors to binary class matrices\n",
        " num_classes =10\n",
        " y_train=np.eye(num_classes)[y_train] #Returna2-Darraywithoneson thediagonal andzeros\n",
        " elsewhere.\n",
        " y_test=np.eye(num_classes)[y_test]#fyourparticularcategoriesispresent thenitmarkas1else0in\n",
        " remain row\n",
        " # Define the model architecture\n",
        " model = Sequential()\n",
        " model.add(Dense(512,activation='relu',input_shape=(784,))) #Inputcosistof784Neuronie784input,\n",
        " 512 in the hidden layer\n",
        " model.add(Dropout(0.2))# DROP OUT RATIO 20%\n",
        " SNJB’s Late Sau. K.B. Jain College Of Engineering\n",
        "model.add(Dense(512, activation='relu'))#returns a sequence of another vectors of dimension 512\n",
        " model.add(Dropout(0.2))\n",
        " model.add(Dense(num_classes, activation='softmax'))# 10 neurons ie output node in the output layer.\n",
        " # Compile the model\n",
        " model.compile(loss='categorical_crossentropy', #for a multi-class classification problem\n",
        " optimizer=RMSprop(),\n",
        " metrics=['accuracy'])\n",
        " # Train the model\n",
        " batch_size =128# batch_size argument is passed tothe layer to define a batch size for the inputs.\n",
        " epochs =20\n",
        " history = model.fit(x_train, y_train,\n",
        " batch_size=batch_size,\n",
        " epochs=epochs,\n",
        " verbose=1,# verbose=1 will showyou an animated progress bar eg. [==========]\n",
        " validation_data=(x_test,y_test))#Usingvalidation_datameansyouareprovidingthe\n",
        " training set and validation set yourself,\n",
        " # 60000image/128=469 batch each\n",
        " # Evaluate the model\n",
        " score = model.evaluate(x_test, y_test, verbose=0)\n",
        " print('Test loss:', score[0])\n",
        " print('Test accuracy:', score[1])\n",
        " Test loss: 0.08541901409626007\n",
        " Test accuracy: 0.9851999878883362\n",
        " Conclusion- In this way we can do Multi classificationusing DNN.\n",
        " Assignment Question\n",
        " 1. What is Batch Size?\n",
        " 2. What is Dropout?\n",
        " 3. What isRMSprop?\n",
        " 4. What  is the Softmax Function?\n",
        " 5. What is the Relu Function?\n",
        " SNJB’s Late Sau. K.B. Jain College Of Engineerin -->"
      ]
    }
  ],
  "metadata": {
    "colab": {
      "provenance": []
    },
    "kernelspec": {
      "display_name": "Python 3",
      "name": "python3"
    },
    "language_info": {
      "name": "python"
    }
  },
  "nbformat": 4,
  "nbformat_minor": 0
}
