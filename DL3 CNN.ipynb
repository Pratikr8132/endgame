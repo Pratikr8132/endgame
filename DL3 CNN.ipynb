{
  "cells": [
    {
      "cell_type": "code",
      "execution_count": 1,
      "metadata": {
        "colab": {
          "base_uri": "https://localhost:8080/"
        },
        "id": "VA1IFM6g1iWp",
        "outputId": "b2f0886f-390a-44cc-f17a-5aaeb4a553a2"
      },
      "outputs": [
        {
          "name": "stdout",
          "output_type": "stream",
          "text": [
            "Downloading data from https://storage.googleapis.com/tensorflow/tf-keras-datasets/train-labels-idx1-ubyte.gz\n",
            "29515/29515 [==============================] - 0s 0us/step\n",
            "Downloading data from https://storage.googleapis.com/tensorflow/tf-keras-datasets/train-images-idx3-ubyte.gz\n",
            "26421880/26421880 [==============================] - 0s 0us/step\n",
            "Downloading data from https://storage.googleapis.com/tensorflow/tf-keras-datasets/t10k-labels-idx1-ubyte.gz\n",
            "5148/5148 [==============================] - 0s 0us/step\n",
            "Downloading data from https://storage.googleapis.com/tensorflow/tf-keras-datasets/t10k-images-idx3-ubyte.gz\n",
            "4422102/4422102 [==============================] - 0s 0us/step\n"
          ]
        }
      ],
      "source": [
        "import tensorflow as tf\n",
        "import matplotlib.pyplot as plt\n",
        "from tensorflow import keras\n",
        "import numpy as np\n",
        "(x_train, y_train), (x_test, y_test) = keras.datasets.fashion_mnist.load_data()\n"
      ]
    },
    {
      "cell_type": "code",
      "execution_count": 2,
      "metadata": {
        "colab": {
          "base_uri": "https://localhost:8080/",
          "height": 447
        },
        "id": "9NP4vf3G15IC",
        "outputId": "2b5eb438-e167-48cb-8106-fd4de3ae1856"
      },
      "outputs": [
        {
          "data": {
            "text/plain": [
              "<matplotlib.image.AxesImage at 0x7fcdf8f22770>"
            ]
          },
          "execution_count": 2,
          "metadata": {},
          "output_type": "execute_result"
        },
        {
          "data": {
            "image/png": "[encoded data removed]",
            "text/plain": [
              "<Figure size 640x480 with 1 Axes>"
            ]
          },
          "metadata": {},
          "output_type": "display_data"
        }
      ],
      "source": [
        "plt.imshow(x_train[1])"
      ]
    },
    {
      "cell_type": "code",
      "execution_count": 3,
      "metadata": {
        "colab": {
          "base_uri": "https://localhost:8080/",
          "height": 447
        },
        "id": "BzTpWHDu152M",
        "outputId": "f59aae9c-6ec3-4028-87f0-d5acf5a3de63"
      },
      "outputs": [
        {
          "data": {
            "text/plain": [
              "<matplotlib.image.AxesImage at 0x7fcdf59f70a0>"
            ]
          },
          "execution_count": 3,
          "metadata": {},
          "output_type": "execute_result"
        },
        {
          "data": {
            "image/png": "[encoded data removed]",
            "text/plain": [
              "<Figure size 640x480 with 1 Axes>"
            ]
          },
          "metadata": {},
          "output_type": "display_data"
        }
      ],
      "source": [
        "plt.imshow(x_train[0])\n"
      ]
    },
    {
      "cell_type": "code",
      "execution_count": 4,
      "metadata": {
        "id": "wd5Gr87y18IU"
      },
      "outputs": [],
      "source": [
        "x_train = x_train.astype('float32') / 255.0\n",
        "x_test = x_test.astype('float32') / 255.0\n",
        "x_train = x_train.reshape(-1, 28, 28, 1)\n",
        "x_test = x_test.reshape(-1, 28, 28, 1)\n"
      ]
    },
    {
      "cell_type": "code",
      "execution_count": 5,
      "metadata": {
        "colab": {
          "base_uri": "https://localhost:8080/"
        },
        "id": "KFyq9MST1_B5",
        "outputId": "0805e278-d981-4664-e9f4-be9c16f98b43"
      },
      "outputs": [
        {
          "data": {
            "text/plain": [
              "(10000,)"
            ]
          },
          "execution_count": 5,
          "metadata": {},
          "output_type": "execute_result"
        }
      ],
      "source": [
        "x_train.shape\n",
        "(60000, 28, 28)\n",
        "x_test.shape\n",
        "(10000, 28, 28, 1)\n",
        "y_train.shape\n",
        "(60000,)\n",
        "y_test.shape\n",
        "(10000,)"
      ]
    },
    {
      "cell_type": "code",
      "execution_count": 7,
      "metadata": {
        "colab": {
          "base_uri": "https://localhost:8080/"
        },
        "id": "TI80z_lb2CxH",
        "outputId": "1645b263-0611-4ab6-95ed-87b2c3ab957b"
      },
      "outputs": [
        {
          "name": "stdout",
          "output_type": "stream",
          "text": [
            "Model: \"sequential\"\n",
            "_________________________________________________________________\n",
            " Layer (type)                Output Shape              Param #   \n",
            "=================================================================\n",
            " conv2d (Conv2D)             (None, 26, 26, 32)        320       \n",
            "                                                                 \n",
            " max_pooling2d (MaxPooling2  (None, 13, 13, 32)        0         \n",
            " D)                                                              \n",
            "                                                                 \n",
            " dropout (Dropout)           (None, 13, 13, 32)        0         \n",
            "                                                                 \n",
            " conv2d_1 (Conv2D)           (None, 11, 11, 64)        18496     \n",
            "                                                                 \n",
            " max_pooling2d_1 (MaxPoolin  (None, 5, 5, 64)          0         \n",
            " g2D)                                                            \n",
            "                                                                 \n",
            " dropout_1 (Dropout)         (None, 5, 5, 64)          0         \n",
            "                                                                 \n",
            " conv2d_2 (Conv2D)           (None, 3, 3, 128)         73856     \n",
            "                                                                 \n",
            " flatten (Flatten)           (None, 1152)              0         \n",
            "                                                                 \n",
            " dense (Dense)               (None, 128)               147584    \n",
            "                                                                 \n",
            " dropout_2 (Dropout)         (None, 128)               0         \n",
            "                                                                 \n",
            " dense_1 (Dense)             (None, 10)                1290      \n",
            "                                                                 \n",
            "=================================================================\n",
            "Total params: 241546 (943.54 KB)\n",
            "Trainable params: 241546 (943.54 KB)\n",
            "Non-trainable params: 0 (0.00 Byte)\n",
            "_________________________________________________________________\n"
          ]
        }
      ],
      "source": [
        "model = keras.Sequential([\n",
        "keras.layers.Conv2D(32, (3,3), activation='relu', input_shape=(28,28,1)),\n",
        "keras.layers.MaxPooling2D((2,2)),\n",
        "keras.layers.Dropout(0.25),\n",
        "keras.layers.Conv2D(64, (3,3), activation='relu'),\n",
        "keras.layers.MaxPooling2D((2,2)),\n",
        "keras.layers.Dropout(0.25),\n",
        "keras.layers.Conv2D(128, (3,3), activation='relu'),\n",
        "keras.layers.Flatten(),\n",
        "keras.layers.Dense(128, activation='relu'),\n",
        "keras.layers.Dropout(0.25),\n",
        "keras.layers.Dense(10, activation='softmax')\n",
        "])\n",
        "model.summary()"
      ]
    },
    {
      "cell_type": "code",
      "execution_count": 8,
      "metadata": {
        "colab": {
          "base_uri": "https://localhost:8080/"
        },
        "id": "mYaiqb5-24rn",
        "outputId": "47dc4984-69d0-4eea-f708-6e593497cbef"
      },
      "outputs": [
        {
          "name": "stdout",
          "output_type": "stream",
          "text": [
            "Epoch 1/10\n",
            "1875/1875 [==============================] - 72s 38ms/step - loss: 0.5647 - accuracy: 0.7910 - val_loss: 0.3750 - val_accuracy: 0.8623\n",
            "Epoch 2/10\n",
            "1875/1875 [==============================] - 71s 38ms/step - loss: 0.3691 - accuracy: 0.8646 - val_loss: 0.3275 - val_accuracy: 0.8813\n",
            "Epoch 3/10\n",
            "1875/1875 [==============================] - 74s 39ms/step - loss: 0.3239 - accuracy: 0.8809 - val_loss: 0.2978 - val_accuracy: 0.8898\n",
            "Epoch 4/10\n",
            "1875/1875 [==============================] - 72s 38ms/step - loss: 0.2956 - accuracy: 0.8900 - val_loss: 0.2798 - val_accuracy: 0.8964\n",
            "Epoch 5/10\n",
            "1875/1875 [==============================] - 71s 38ms/step - loss: 0.2792 - accuracy: 0.8958 - val_loss: 0.2683 - val_accuracy: 0.9013\n",
            "Epoch 6/10\n",
            "1875/1875 [==============================] - 70s 37ms/step - loss: 0.2667 - accuracy: 0.9010 - val_loss: 0.2651 - val_accuracy: 0.9000\n",
            "Epoch 7/10\n",
            "1875/1875 [==============================] - 72s 39ms/step - loss: 0.2528 - accuracy: 0.9065 - val_loss: 0.2596 - val_accuracy: 0.9061\n",
            "Epoch 8/10\n",
            "1875/1875 [==============================] - 70s 37ms/step - loss: 0.2471 - accuracy: 0.9073 - val_loss: 0.2579 - val_accuracy: 0.9053\n",
            "Epoch 9/10\n",
            "1875/1875 [==============================] - 73s 39ms/step - loss: 0.2364 - accuracy: 0.9096 - val_loss: 0.2545 - val_accuracy: 0.9091\n",
            "Epoch 10/10\n",
            "1875/1875 [==============================] - 72s 39ms/step - loss: 0.2282 - accuracy: 0.9150 - val_loss: 0.2539 - val_accuracy: 0.9100\n"
          ]
        }
      ],
      "source": [
        "model.compile(optimizer='adam', loss='sparse_categorical_crossentropy', metrics=['accuracy'])\n",
        "history = model.fit(x_train, y_train, epochs=10, validation_data=(x_test, y_test))"
      ]
    },
    {
      "cell_type": "code",
      "execution_count": 11,
      "metadata": {
        "colab": {
          "base_uri": "https://localhost:8080/"
        },
        "id": "M9iZJl6025VH",
        "outputId": "f55f3fc9-f37a-4b58-fb3f-1d479d114856"
      },
      "outputs": [
        {
          "name": "stdout",
          "output_type": "stream",
          "text": [
            "313/313 [==============================] - 4s 14ms/step - loss: 0.2539 - accuracy: 0.9100\n",
            "Test accuracy: 91.00000262260437\n"
          ]
        }
      ],
      "source": [
        "test_loss, test_acc = model.evaluate(x_test, y_test)\n",
        "print('Test accuracy:', test_acc*100)"
      ]
    },
    {
      "cell_type": "code",
      "execution_count": null,
      "metadata": {},
      "outputs": [],
      "source": []
    },
    {
      "cell_type": "code",
      "execution_count": null,
      "metadata": {},
      "outputs": [],
      "source": []
    },
    {
      "cell_type": "code",
      "execution_count": null,
      "metadata": {},
      "outputs": [],
      "source": []
    },
    {
      "cell_type": "code",
      "execution_count": null,
      "metadata": {},
      "outputs": [],
      "source": []
    },
    {
      "cell_type": "code",
      "execution_count": null,
      "metadata": {},
      "outputs": [],
      "source": []
    },
    {
      "cell_type": "code",
      "execution_count": null,
      "metadata": {},
      "outputs": [],
      "source": []
    },
    {
      "cell_type": "code",
      "execution_count": null,
      "metadata": {},
      "outputs": [],
      "source": []
    },
    {
      "cell_type": "code",
      "execution_count": null,
      "metadata": {},
      "outputs": [],
      "source": []
    },
    {
      "cell_type": "code",
      "execution_count": null,
      "metadata": {},
      "outputs": [],
      "source": []
    },
    {
      "cell_type": "code",
      "execution_count": null,
      "metadata": {},
      "outputs": [],
      "source": []
    },
    {
      "cell_type": "code",
      "execution_count": null,
      "metadata": {},
      "outputs": [],
      "source": []
    },
    {
      "cell_type": "code",
      "execution_count": null,
      "metadata": {},
      "outputs": [],
      "source": []
    },
    {
      "cell_type": "code",
      "execution_count": null,
      "metadata": {},
      "outputs": [],
      "source": []
    },
    {
      "cell_type": "code",
      "execution_count": null,
      "metadata": {},
      "outputs": [],
      "source": []
    },
    {
      "cell_type": "code",
      "execution_count": null,
      "metadata": {},
      "outputs": [],
      "source": []
    },
    {
      "cell_type": "code",
      "execution_count": null,
      "metadata": {},
      "outputs": [],
      "source": []
    },
    {
      "cell_type": "code",
      "execution_count": null,
      "metadata": {},
      "outputs": [],
      "source": []
    },
    {
      "cell_type": "code",
      "execution_count": null,
      "metadata": {},
      "outputs": [],
      "source": []
    },
    {
      "cell_type": "code",
      "execution_count": null,
      "metadata": {},
      "outputs": [],
      "source": []
    },
    {
      "cell_type": "code",
      "execution_count": null,
      "metadata": {},
      "outputs": [],
      "source": []
    },
    {
      "cell_type": "code",
      "execution_count": null,
      "metadata": {},
      "outputs": [],
      "source": []
    },
    {
      "cell_type": "code",
      "execution_count": null,
      "metadata": {},
      "outputs": [],
      "source": [
        "# This code snippet demonstrates building a Convolutional Neural Network (CNN) using TensorFlow/Keras for classifying fashion items from the Fashion MNIST dataset. Let's go through each part of the code:\n",
        "\n",
        "# Libraries Imported\n",
        "# import tensorflow as tf: TensorFlow library for deep learning.\n",
        "# import matplotlib.pyplot as plt: Matplotlib for plotting.\n",
        "# from tensorflow import keras: Keras for building and training neural networks.\n",
        "# import numpy as np: NumPy for numerical operations.\n",
        "# Loading and Preprocessing Data\n",
        "# keras.datasets.fashion_mnist.load_data(): Loads the Fashion MNIST dataset, consisting of images of clothing items and their corresponding labels.\n",
        "# The training and test images are normalized to values between 0 and 1 by dividing by 255.0.\n",
        "# Reshapes the images to have a single channel (grayscale) and a shape of (28, 28, 1).\n",
        "# Model Definition\n",
        "# keras.Sequential([...]): Initializes a sequential model.\n",
        "# Adds three convolutional layers (Conv2D) with ReLU activation and max-pooling layers (MaxPooling2D).\n",
        "# Dropout layers are added after each max-pooling layer for regularization.\n",
        "# A flatten layer converts the 2D feature map to a 1D vector.\n",
        "# Two dense layers (Dense) with ReLU activation and softmax activation for the output layer (classification).\n",
        "# Model Compilation and Training\n",
        "# model.compile(...): Compiles the model with the Adam optimizer, sparse categorical cross-entropy loss, and accuracy metric.\n",
        "# model.fit(...): Trains the model on the training data for 10 epochs with validation data for evaluation during training.\n",
        "# Model Evaluation\n",
        "# model.evaluate(...): Evaluates the trained model on the test data and computes the test loss and accuracy.\n",
        "# Prints the test accuracy after evaluation.\n",
        "# Summary\n",
        "# The model architecture includes three convolutional layers followed by max-pooling and dropout for regularization, then dense layers for classification.\n",
        "# The Adam optimizer is used with sparse categorical cross-entropy loss for multiclass classification.\n",
        "# The model is trained for 10 epochs on the Fashion MNIST dataset, achieving a test accuracy printed at the end.\n",
        "# Overall, this code showcases building and training a CNN using TensorFlow/Keras for image classification tasks."
      ]
    },
    {
      "cell_type": "code",
      "execution_count": null,
      "metadata": {},
      "outputs": [],
      "source": [
        "#  Group B Deep Learning\n",
        "#  Assignment No: 3B\n",
        "#  Title of the Assignment: Use MNIST Fashion Dataset and create a classifier to classify fashion clothing\n",
        "#  into categories.\n",
        "#  Objective of the Assignment: Students should be able to Classify movie reviews into positive reviews\n",
        "#  and \"negative reviews on IMDB Dataset.\n",
        "#  Prerequisite:\n",
        "#  1.\n",
        "#  2.\n",
        "#  3.\n",
        "#  Basic of programming language\n",
        "#  Concept of Classification\n",
        "#  Concept of Deep Neural Network--------------------------------------------------------------------------------------------------------------\n",
        "# Contents for Theory:\n",
        "#  1.\n",
        "#  2.\n",
        "#  3.\n",
        "#  4.\n",
        "#  5.\n",
        "#  What is Classification\n",
        "#  Example of Classification\n",
        "#  What is CNN?\n",
        "#  How Deep Neural Network Work on Classification\n",
        "#  Code Explanation with Output--------------------------------------------------------------------------------------------------------------\n",
        "# SNJB’s Late Sau. K.B. Jain College Of Engineering\n",
        "# What is Classification?\n",
        "#  Classification is a type of supervised learning in machine learning that involves categorizing data into\n",
        "#  predefined classes or categories based on a set of features or characteristics. It is used to predict the class\n",
        "#  of new, unseen data based on the patterns learned from the labeled training data.\n",
        "#  In classification, a model is trained on a labeled dataset, where each data point has a known class label.\n",
        "#  The model learns to associate the input features with the corresponding class labels and can then be used\n",
        "#  to classify new, unseen data.\n",
        "#  For example, we can use classification to identify whether an email is spam or not based on its content\n",
        "#  and metadata, to predict whether a patient has a disease based on their medical records and symptoms, or\n",
        "#  to classify images into different categories based on their visual features.\n",
        "#  Classification algorithms can vary in complexity, ranging from simple models such as decision trees and\n",
        "#  k-nearest neighbors to more complex models such as support vector machines and neural networks. The\n",
        "#  choice of algorithm depends on the nature of the data, the size of the dataset, and the desired level of\n",
        "#  accuracy and interpretability.\n",
        "#  Example- Classification is a common task in deep neural networks, where the goal is to predict the class\n",
        "#  of an input based on its features. Here's an example of how classification can be performed in a deep\n",
        "#  neural network using the popular MNIST dataset of handwritten digits.\n",
        "#  The MNIST dataset contains 60,000 training images and 10,000 testing images of handwritten digits\n",
        "#  from 0 to 9. Each image is a grayscale 28x28 pixel image, and the task is to classify each image into one\n",
        "#  of the 10 classes corresponding to the 10 digits.\n",
        "#  We can use a convolutional neural network (CNN) to classify the MNIST dataset. A CNN is a type of\n",
        "#  deep neural network that is commonly used for image classification tasks.\n",
        "#  What us CNN\n",
        "# Convolutional Neural Networks (CNNs) are commonly used for image classification tasks, and they are\n",
        "#  designed to automatically learn and extract features from input images. Let's consider an example of\n",
        "#  using a CNN to classify images of handwritten digits.\n",
        "#  SNJB’s Late Sau. K.B. Jain College Of Engineering\n",
        "# In a typical CNN architecture for image classification, there are several layers, including convolutional\n",
        "#  layers, pooling layers, and fully connected layers. Here's a diagram of a simple CNN architecture for the\n",
        "#  digit classification task:\n",
        "#  The input to the network is an image of size 28x28 pixels, and the output is a probability distribution\n",
        "#  over the 10 possible digits (0 to 9).\n",
        "#  The convolutional layers in the CNN apply filters to the input image, looking for specific patterns and\n",
        "#  features. Each filter produces a feature map that highlights areas of the image that match the filter. The\n",
        "#  filters are learned during training, so the network can automatically learn which features are most\n",
        "#  relevant for the classification task.\n",
        "#  The pooling layers in the CNN downsample the feature maps, reducing the spatial dimensions of the\n",
        "#  data. This helps to reduce the number of parameters in the network, while also making the features more\n",
        "#  robust to small variations in the input image.\n",
        "#  The fully connected layers in the CNN take the flattened output from the last pooling layer and perform\n",
        "#  a classification task by outputting a probability distribution over the 10 possible digits.\n",
        "#  During training, the network learns the optimal values of the filters and parameters by minimizing a loss\n",
        "#  function. This is typically done using stochastic gradient descent or a similar optimization algorithm.\n",
        "#  Once trained, the network can be used to classify new images by passing them through the network and\n",
        "#  computing the output probability distribution.\n",
        "#  Overall, CNNs are powerful tools for image recognition tasks and have been used successfully in many\n",
        "#  applications, including object detection, face recognition, and medical image analysis.\n",
        "#  CNNs have a wide range of applications in various fields, some of which are:\n",
        "#  Image classification: CNNs are commonly used for image classification tasks, such as identifying\n",
        "#  objects in images and recognizing faces.\n",
        "#  Object detection: CNNs can be used for object detection in images and videos, which involves\n",
        "#  identifying the location of objects in an image and drawing bounding boxes around them.\n",
        "#  Semantic segmentation: CNNs can be used for semantic segmentation, which involves partitioning an\n",
        "#  image into segments and assigning each segment a semantic label (e.g., \"road\", \"sky\", \"building\").\n",
        "#  Natural language processing: CNNs can be used for natural language processing tasks, such as\n",
        "#  sentiment analysis and text classification.\n",
        "#  Medical imaging: CNNs are used in medical imaging for tasks such as diagnosing diseases from X-rays\n",
        "#  and identifying tumors from MRI scans.\n",
        "#  Autonomous vehicles: CNNs are used in autonomous vehicles for tasks such as object detection and\n",
        "#  lane detection.\n",
        "#  SNJB’s Late Sau. K.B. Jain College Of Engineering\n",
        "# Video analysis: CNNs can be used for tasks such as video classification, action recognition, and video\n",
        "#  captioning.\n",
        "#  Overall, CNNs are a powerful tool for a wide range of applications, and they have been used\n",
        "#  successfully in many areas of research and industry.\n",
        "#  How Deep Neural Network Work on Classification using CNN\n",
        "# Deep neural networks using CNNs work on classification tasks by learning to automatically extract\n",
        "#  features from input images and using those features to make predictions. Here's how it works:\n",
        "#  Input layer: The input layer of the network takes in the image data as input.\n",
        "#  Convolutional layers: The convolutional layers apply filters to the input images to extract relevant\n",
        "#  features. Each filter produces a feature map that highlights areas of the image that match the filter.\n",
        "#  Activation functions: An activation function is applied to the output of each convolutional layer to\n",
        "#  introduce non-linearity into the network.\n",
        "#  Pooling layers: The pooling layers downsample the feature maps to reduce the spatial dimensions of the\n",
        "#  data.\n",
        "#  Dropout layer: Dropout is used to prevent overfitting by randomly dropping out a percentage of the\n",
        "#  neurons in the network during training.\n",
        "#  Fully connected layers: The fully connected layers take the flattened output from the last pooling layer\n",
        "#  and perform a classification task by outputting a probability distribution over the possible classes.\n",
        "#  Softmax activation function: The softmax activation function is applied to the output of the last fully\n",
        "#  connected layer to produce a probability distribution over the possible classes.\n",
        "#  Loss function: A loss function is used to compute the difference between the predicted probabilities and\n",
        "#  the actual labels.\n",
        "#  Optimization: An optimization algorithm, such as stochastic gradient descent, is used to minimize the\n",
        "#  loss function by adjusting the values of the network parameters.\n",
        "#  Training: The network is trained on a large dataset of labeled images, adjusting the values of the\n",
        "#  parameters to minimize the loss function.\n",
        "#  Prediction: Once trained, the network can be used to classify new images by passing them through the\n",
        "#  network and computing the output probability distribution.\n",
        "#  MNIST Dataset\n",
        "# The MNIST Fashion dataset is a collection of 70,000 grayscale images of 28x28 pixels, representing 10\n",
        "#  different categories of clothing and accessories. The categories include T-shirts/tops, trousers, pullovers,\n",
        "#  dresses, coats, sandals, shirts, sneakers, bags, and ankle boots.\n",
        "#  The dataset is often used as a benchmark for testing image classification algorithms, and it is considered\n",
        "#  a more challenging version of the original MNIST dataset which contains handwritten digits. The\n",
        "#  SNJB’s Late Sau. K.B. Jain College Of Engineering\n",
        "# MNIST Fashion dataset was released by Zalando Research in 2017 and has since become a popular\n",
        "#  dataset in the machine learning community.\n",
        "#  he MNIST Fashion dataset is a collection of 70,000 grayscale images of 28x28 pixels each. These\n",
        "#  images represent 10 different categories of clothing and accessories, with each category containing 7,000\n",
        "#  images. The categories are as follows:\n",
        "#  T-shirt/tops\n",
        "#  Trousers\n",
        "#  Pullovers\n",
        "#  Dresses\n",
        "#  Coats\n",
        "#  Sandals\n",
        "#  Shirts\n",
        "#  Sneakers\n",
        "#  Bags\n",
        "#  Ankle boots\n",
        "#  The images were obtained from Zalando's online store and are preprocessed to be normalized and\n",
        "#  centered. The training set contains 60,000 images, while the test set contains 10,000 images. The goal of\n",
        "#  the dataset is to accurately classify the images into their respective categories.\n",
        "#  The MNIST Fashion dataset is often used as a benchmark for testing image classification algorithms,\n",
        "#  and it is considered a more challenging version of the original MNIST dataset which contains\n",
        "#  handwritten digits. The dataset is widely used in the machine learning community for research and\n",
        "#  educational purposes.\n",
        "#  SNJB’s Late Sau. K.B. Jain College Of Engineering\n",
        "# Hereare thegeneral steps toperformConvolutionalNeuralNetwork(CNN)ontheMNISTFashion\n",
        "#  dataset:\n",
        "#  ● Import the necessary libraries, including TensorFlow, Keras, NumPy, and Matplotlib.\n",
        "#  ● Load thedataset usingKeras' built-in function, keras.datasets.fashion_mnist.load_data(). This\n",
        "#  will provide the training and testing sets, which will be used to train and evaluate the CNN.\n",
        "#  ● Preprocessthedatabynormalizingthepixelvaluesbetween0and1,andreshapingtheimagesto\n",
        "#  be of size (28, 28, 1) for compatibility with the CNN.\n",
        "#  ● Define theCNNarchitecture, includingthenumberandsizeoffilters,activationfunctions,and\n",
        "#  pooling layers. This can vary based on the specific problem being addressed.\n",
        "#  ● Compilethemodelbyspecifyingthelossfunction,optimizer,andevaluationmetrics.Common\n",
        "#  choices include categorical cross-entropy, Adam optimizer, and accuracy metric.\n",
        "#  ● TraintheCNNonthetrainingsetusingthefit()function,specifyingthenumberofepochsand\n",
        "#  batch size.\n",
        "#  ● Evaluatetheperformanceof themodelonthetestingsetusingtheevaluate()function.Thiswill\n",
        "#  provide metrics such as accuracy and loss on the test set.\n",
        "#  ● Use the trainedmodel tomake predictions onnew images, if desired, using the predict()\n",
        "#  function.\n",
        "#  Source Code with Output\n",
        "# importtensorflowastf\n",
        "#  importmatplotlib.pyplotasplt\n",
        "#  fromtensorflowimportkeras\n",
        "#  importnumpyasnp\n",
        "#  (x_train, y_train), (x_test, y_test) = keras.datasets.fashion_mnist.load_data()\n",
        "#  #Thereare10imageclassesinthisdatasetandeachclasshasamappingcorrespondingtothefollowing\n",
        "#  labels:\n",
        "#  #0 T-shirt/top\n",
        "#  #1 Trouser\n",
        "#  #2 pullover\n",
        "#  #3 Dress\n",
        "#  #4 Coat\n",
        "#  #5 sandals\n",
        "#  SNJB’s Late Sau. K.B. Jain College Of Engineering\n",
        "# #6 shirt\n",
        "#  #7 sneaker\n",
        "#  #8 bag\n",
        "#  #9 ankle boot\n",
        "#  plt.imshow(x_train[1])\n",
        "#  plt.imshow(x_train[0])\n",
        "#  # Next, we will preprocess the data by scaling the pixel values to be between 0 and 1, and then reshaping\n",
        "#  the images to be 28x28 pixels.\n",
        "#  x_train = x_train.astype('float32') / 255.0\n",
        "#  x_test = x_test.astype('float32') / 255.0\n",
        "#  x_train = x_train.reshape(-1, 28, 28, 1)\n",
        "#  x_test = x_test.reshape(-1, 28, 28, 1)\n",
        "#  # 28, 28 comes from width, height, 1 comes from the number of channels\n",
        "#  # -1 means that the length in that dimension is inferred.\n",
        "#  # This is done based on the constraint that the number of elements in an ndarray or Tensor when\n",
        "#  reshaped must remain the same.\n",
        "#  SNJB’s Late Sau. K.B. Jain College Of Engineering\n",
        "# #eachimageisarowvector(784elements)andtherearelotsofsuchrows(letitben,sothereare784n\n",
        "#  elements). So TensorFlow can infer that -1 is n.\n",
        "#  #convertingthetraining_imagesarrayto4dimensionalarraywithsizes60000,28,28,1for0thto3rd\n",
        "#  dimension.\n",
        "#  x_train.shape\n",
        "#  (60000, 28, 28)\n",
        "#  x_test.shape\n",
        "#  (10000, 28, 28, 1)\n",
        "#  y_train.shape\n",
        "#  (60000,)\n",
        "#  y_test.shape\n",
        "#  (10000,)\n",
        "#  # We will use a convolutional neural network (CNN) to classify the fashion items.\n",
        "#  # The CNN will consist of multiple convolutional layers followed by max pooling,\n",
        "#  # dropout, and dense layers. Here is the code for the model:\n",
        "#  model = keras.Sequential([\n",
        "#  keras.layers.Conv2D(32, (3,3), activation='relu',input_shape=(28,28,1)),\n",
        "#  # 32 filters (default), randomly initialized\n",
        "#  # 3*3 is Size of Filter\n",
        "#  # 28,28,1 size of Input Image\n",
        "#  # No zero-padding: every output 2 pixels lessin every dimension\n",
        "#  # in Paramter shwon 320 is value of weights: (3x3filter weights + 32 bias) * 32 filters\n",
        "#  # 32*3*3=288(Total)+32(bias)= 320\n",
        "#  keras.layers.MaxPooling2D((2,2)),\n",
        "#  # It shown 13 * 13 size image with 32 channelor filter or depth.\n",
        "#  keras.layers.Dropout(0.25),\n",
        "#  # Reduce Overfitting of Training sample drop out25% Neuron\n",
        "#  keras.layers.Conv2D(64, (3,3), activation='relu'),\n",
        "#  # Deeper layers use 64 filters\n",
        "#  # 3*3 is Size of Filter\n",
        "#  # Observe how the input image on 28x28x1 is transformedto a 3x3x64 feature map\n",
        "#  # 13(Size)-3(Filter Size )+1(bias)=11 Size forWidth and Height with 64 Depth or filtter or channel\n",
        "#  # in Paramter shwon 18496 is value of weights:(3x3 filter weights + 64 bias) * 64 filters\n",
        "#  # 64*3*3=576+1=577*32 + 32(bias)=18496\n",
        "#  keras.layers.MaxPooling2D((2,2)),\n",
        "#  # It shown 5 * 5 size image with 64 channel orfilter or depth.\n",
        "#  keras.layers.Dropout(0.25),\n",
        "#  SNJB’s Late Sau. K.B. Jain College Of Engineering\n",
        "# keras.layers.Conv2D(128, (3,3), activation='relu'),\n",
        "#  # Deeper layers use 128 filters\n",
        "#  # 3*3 is Size of Filter\n",
        "#  # Observe how the input image on 28x28x1 is transformedto a 3x3x128 feature map\n",
        "#  #It show5(Size)-3(FilterSize)+1(bias)=3SizeforWidthandHeightwith64Depthor filtteror\n",
        "#  channel\n",
        "#  # 128*3*3=1152+1=1153*64 + 64(bias)= 73856\n",
        "#  # To classify the images, we still need a Denseand Softmax layer.\n",
        "#  # We need to flatten the 3x3x128 feature map toa vector of size 1152\n",
        "#  keras.layers.Flatten(),\n",
        "#  keras.layers.Dense(128, activation='relu'),\n",
        "#  # 128 Size of Node in Dense Layer\n",
        "#  # 1152*128 = 147584\n",
        "#  keras.layers.Dropout(0.25),\n",
        "#  keras.layers.Dense(10, activation='softmax')\n",
        "#  # 10 Size of Node another Dense Layer\n",
        "#  # 128*10+10 bias= 1290\n",
        "#  ])\n",
        "#  model.summary()\n",
        "#  Model: \"sequential\"\n",
        "#  _________________________________________________________________\n",
        "#  Layer (type)                Output Shape              Param #\n",
        "#  =================================================================\n",
        "#  conv2d (Conv2D)             (None, 26, 26, 32)        320\n",
        "#  max_pooling2d (MaxPooling2D  (None, 13, 13, 32)       0\n",
        "#  )\n",
        "#  dropout (Dropout)           (None, 13, 13, 32)        0\n",
        "#  conv2d_1 (Conv2D)           (None, 11, 11, 64)        18496\n",
        "#  max_pooling2d_1 (MaxPooling  (None, 5, 5, 64)         0\n",
        "#  2D)\n",
        "#  dropout_1 (Dropout)         (None, 5, 5, 64)          0\n",
        "#  SNJB’s Late Sau. K.B. Jain College Of Engineering\n",
        "# conv2d_2 (Conv2D)           (None, 3, 3, 128)         73856\n",
        "#  flatten (Flatten)           (None, 1152)              0\n",
        "#  dense (Dense)               (None, 128)               147584\n",
        "#  dropout_2 (Dropout)         (None, 128)               0\n",
        "#  dense_1 (Dense)             (None, 10)                1290\n",
        "#  =================================================================\n",
        "#  Total params: 241,546\n",
        "#  Trainable params: 241,546\n",
        "#  Non-trainable params: 0\n",
        "#  # Compile and Train the Model\n",
        "#  # After defining the model, we will compile it and train it on the training data.\n",
        "#  model.compile(optimizer='adam', loss='sparse_categorical_crossentropy',metrics=['accuracy'])\n",
        "#  history = model.fit(x_train, y_train, epochs=10, validation_data=(x_test,y_test))\n",
        "#  # 1875 is a number of batches. By default batches contain 32 samles.60000 / 32 = 1875\n",
        "#  # Finally, we will evaluate the performance of the model on the test data.\n",
        "#  test_loss, test_acc = model.evaluate(x_test, y_test)\n",
        "#  print('Test accuracy:', test_acc)\n",
        "#  313/313 [==============================] - 3s 10ms/step - loss: 0.2606 - accuracy: 0.9031\n",
        "#  Test accuracy: 0.9031000137329102\n",
        "#  Conclusion- In this way we can Classify fashion clothinginto categories using CNN.\n",
        "#  Assignment Question\n",
        "#  1. What is Binary Classification?\n",
        "#  2. What is binary Cross Entropy?\n",
        "#  3. What is Validation Split?\n",
        "#  4. What  is the Epoch Cycle?\n",
        "#  5. What is Adam Optimizer?\n",
        "#  SNJB’s Late Sau. K.B. Jain College Of Engineerin"
      ]
    }
  ],
  "metadata": {
    "colab": {
      "provenance": []
    },
    "kernelspec": {
      "display_name": "Python 3",
      "name": "python3"
    },
    "language_info": {
      "name": "python"
    }
  },
  "nbformat": 4,
  "nbformat_minor": 0
}
